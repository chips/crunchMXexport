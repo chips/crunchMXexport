{
 "cells": [
  {
   "cell_type": "markdown",
   "metadata": {},
   "source": [
    "MX server lookup\n",
    "=======\n",
    "\n",
    "Just a quick way of running checks on csv downloads from *Crunchbase* to see what email provider they are likely using. I needed statistics on how many are using google mail services, so I'm checking for the google mx servers. This list will not be exact, as many companies could be running through other services for security reasons etc.\n",
    "\n",
    "The formatting of the cvs file downloaded from crunchbase needs a few things to work:\n",
    "\n",
    "the last field should be the contact email.\n",
    "The second to last field should be the number of employees.\n",
    "Other than that, it's default.\n",
    "\n"
   ]
  },
  {
   "cell_type": "code",
   "execution_count": 21,
   "metadata": {
    "scrolled": true
   },
   "outputs": [
    {
     "name": "stdout",
     "output_type": "stream",
     "text": [
      "Collecting package metadata (current_repodata.json): done\n",
      "Solving environment: failed with initial frozen solve. Retrying with flexible solve.\n",
      "Collecting package metadata (repodata.json): done\n",
      "Solving environment: failed with initial frozen solve. Retrying with flexible solve.\n",
      "\n",
      "PackagesNotFoundError: The following packages are not available from current channels:\n",
      "\n",
      "  - dnspython3\n",
      "\n",
      "Current channels:\n",
      "\n",
      "  - https://repo.anaconda.com/pkgs/main/osx-64\n",
      "  - https://repo.anaconda.com/pkgs/main/noarch\n",
      "  - https://repo.anaconda.com/pkgs/r/osx-64\n",
      "  - https://repo.anaconda.com/pkgs/r/noarch\n",
      "\n",
      "To search for alternate channels that may provide the conda package you're\n",
      "looking for, navigate to\n",
      "\n",
      "    https://anaconda.org\n",
      "\n",
      "and use the search bar at the top of the page.\n",
      "\n",
      "\n"
     ]
    }
   ],
   "source": [
    "# Install a conda package in the current Jupyter kernel\n",
    "import sys\n",
    "!conda install --yes --prefix {sys.prefix} dnspython3"
   ]
  },
  {
   "cell_type": "code",
   "execution_count": 82,
   "metadata": {},
   "outputs": [],
   "source": [
    "#Import needed packages\n",
    "import csv\n",
    "import dns.resolver"
   ]
  },
  {
   "cell_type": "code",
   "execution_count": 83,
   "metadata": {},
   "outputs": [],
   "source": [
    "#Parameters for search.\n",
    "#What do you want to match anywhere in the mx lookup\n",
    "servermatch = \"google\"\n",
    "\n",
    "#What do you want to call the service in the printout\n",
    "servername = \"Google\"\n",
    "\n",
    "#The name of the text output\n",
    "txtFileOutName = \"MyOutput.txt\"\n",
    "\n",
    "#Name of csv export\n",
    "csvFileOutName = \"MyOutput.csv\"\n",
    "\n",
    "#Name of your input file, the one from crunchbase\n",
    "inputFile = \"companies-large.csv\""
   ]
  },
  {
   "cell_type": "code",
   "execution_count": 84,
   "metadata": {},
   "outputs": [
    {
     "name": "stdout",
     "output_type": "stream",
     "text": [
      "Delivery Hero located in Berlin, Berlin, Germany has 10001+ employees in the Delivery, E-Commerce, Food Delivery, Internet, Same Day Delivery industries and uses Google servers. They can be reached at info@deliveryhero.com \n",
      "\n",
      "Zalando located in Berlin, Berlin, Germany has 10001+ employees in the E-Commerce, E-Commerce Platforms, Fashion, Lifestyle industries and uses Google servers. They can be reached at social.media@zalando.de \n",
      "\n",
      "Ocado Group located in Hatfield, Hertford, United Kingdom has 10001+ employees in the E-Commerce, Grocery, Retail industries and uses Google servers. They can be reached at ocado@ocado.com \n",
      "\n",
      "OZON.ru located in Moscow, Moscow City, Russian Federation has 5001-10000 employees in the E-Commerce, E-Commerce Platforms, Internet, Marketplace, Retail industries and uses Google servers. They can be reached at help@ozon.ru \n",
      "\n",
      "G4S located in London, England, United Kingdom has 10001+ employees in the Finance, Network Security, Security industries and uses Google servers. They can be reached at g4scustomerservices@uk.g4s.com \n",
      "\n",
      "Banco Bilbao Vizcaya Argentaria located in Bilbao, Pais Vasco, Spain has 10001+ employees in the Banking, Big Data, Finance, Financial Services, FinTech industries and uses Google servers. They can be reached at infobbvaresponde@bbva.com \n",
      "\n",
      "Global Fashion Group located in Luxembourg, Luxembourg, Luxembourg has 5001-10000 employees in the E-Commerce, Fashion, Marketing, Retail, Shopping industries and uses Google servers. They can be reached at info@global-fashion-group.com \n",
      "\n",
      "Europcar located in Voisins-le-bretonneux, Ile-de-France, France has 5001-10000 employees in the Automotive, Consumer industries and uses Google servers. They can be reached at investor.relations@europcar.com \n",
      "\n",
      "OVS located in Venice, Veneto, Italy has 5001-10000 employees in the E-Commerce, Fashion, Lifestyle, Textiles industries and uses Google servers. They can be reached at servizioclienti@ovs.it \n",
      "\n",
      "Aptiv located in Dublin, Dublin, Ireland has 10001+ employees in the Automotive, Autonomous Vehicles, Electric Vehicle, Ride Sharing, Software industries and uses Google servers. They can be reached at delphiautoparts@gmail.com \n",
      "\n",
      "Fiat Chrysler Automobiles located in London, England, United Kingdom has 10001+ employees in the Automotive, Industrial Manufacturing, Manufacturing, Transportation industries and uses Google servers. They can be reached at mediarelations@fcagroup.com \n",
      "\n",
      "Randstad located in Madrid, Madrid, Spain has 5001-10000 employees in the Consulting, Employment, Human Resources, Recruiting, Staffing Agency industries and uses Google servers. They can be reached at lineadeatencion@randstad.es \n",
      "\n",
      "Decathlon located in Calais, Nord-Pas-de-Calais, France has 5001-10000 employees in the E-Commerce, Retail, Sporting Goods, Sports industries and uses Google servers. They can be reached at customercare@decathlon.in \n",
      "\n",
      "Biglion located in Moscow, Moscow City, Russian Federation has 5001-10000 employees in the Resorts, Tourism, Travel industries and uses Google servers. They can be reached at vopros@biglion.ru \n",
      "\n",
      "Devoteam located in Levallois-perret, Ile-de-France, France has 5001-10000 employees in the Consulting, Information Technology, IT Management industries and uses Google servers. They can be reached at info@devoteam.com \n",
      "\n",
      "WABCO located in Bern, Bern, Switzerland has 10001+ employees in the Automotive, Computer, Electronics, Manufacturing industries and uses Google servers. They can be reached at info.de@wabco-auto.com \n",
      "\n",
      "Buuyers located in Paris, Ile-de-France, France has 5001-10000 employees in the Advertising, Internet, Internet of Things industries and uses Google servers. They can be reached at help@buuyers.com \n",
      "\n",
      "LafargeHolcim located in Jona, Schwyz, Switzerland has 10001+ employees in the Building Material, Industrial, Innovation Management industries and uses Google servers. They can be reached at media@lafargeholcim.com \n",
      "\n",
      "ALLSAINTS located in London, England, United Kingdom has 5001-10000 employees in the E-Commerce, Fashion, Retail industries and uses Google servers. They can be reached at ask@allsaints.com \n",
      "\n",
      "Morrisons Supermarkets located in Bradford, Somerset, United Kingdom has 10001+ employees in the Retail, Shopping industries and uses Google servers. They can be reached at fresh@morrisons.com \n",
      "\n",
      "Delphi Technologies located in London, England, United Kingdom has 10001+ employees in the Automotive industries and uses Google servers. They can be reached at delphiautoparts@gmail.com \n",
      "\n",
      "GFI Informatique located in Paris, Ile-de-France, France has 10001+ employees in the Consulting, Enterprise Software, Software industries and uses Google servers. They can be reached at gficorporate@gmail.com \n",
      "\n",
      "ADEO located in Ronchin, Nord-Pas-de-Calais, France has 10001+ employees in the DIY, Home Decor, Retail industries and uses Google servers. They can be reached at arnaud@tikamoon.com \n",
      "\n",
      "Engel & Völkers located in Hamburg, Hamburg, Germany has 10001+ employees in the Real Estate industries and uses Google servers. They can be reached at socialmedia@engelvoelkers.com \n",
      "\n",
      "Morrison located in Bradford, Somerset, United Kingdom has 10001+ employees in the Consumer Goods, E-Commerce, Food and Beverage, Sales industries and uses Google servers. They can be reached at social@morrisonsplc.co.uk \n",
      "\n",
      "Cargotec located in Helsinki, Southern Finland, Finland has 10001+ employees in the Logistics industries and uses Google servers. They can be reached at communications@cargotec.com \n",
      "\n",
      "Viessmann located in Allendorf-eder, Hessen, Germany has 10001+ employees in the Clean Energy, Internet of Things, Manufacturing industries and uses Google servers. They can be reached at social-media@viessmann.com \n",
      "\n",
      "Travis Perkins located in Northampton, Northamptonshire, United Kingdom has 10001+ employees in the Building Material, Construction, Home Improvement industries and uses Google servers. They can be reached at customerservice@travisperkins.co.uk \n",
      "\n",
      "Essilor located in Charenton-le-pont, Ile-de-France, France has 10001+ employees in the Hardware, Medical Device industries and uses Google servers. They can be reached at info@essilor.com \n",
      "\n",
      "Lafarge located in Paris, Ile-de-France, France has 10001+ employees in the Building Material, Manufacturing industries and uses Google servers. They can be reached at ductal@lafarge-ciments.lafarge.com \n",
      "\n",
      "Phonetic Arts located in Cambridge, Cambridgeshire, United Kingdom has 10001+ employees in the Apps, Internet, Mobile, Software, Virtual Reality industries and uses Google servers. They can be reached at sales@phonetic-arts.com \n",
      "\n",
      "Barry Callevaut located in Zurich, Zurich, Switzerland has 5001-10000 employees in the Food and Beverage, Food Processing, Manufacturing, Retail industries and uses Google servers. They can be reached at apac_media@barry-callebaut.com \n",
      "\n",
      "AIESEC located in Rotterdam, Zuid-Holland, The Netherlands has 10001+ employees in the Association, Career Planning, Communities, Non Profit, Social industries and uses Google servers. They can be reached at info@ai.aiesec.org \n",
      "\n",
      "National Institute for Health Research located in Whitehall, Orkney, United Kingdom has 10001+ employees in the Biotechnology, Clinical Trials, Life Science, Medical industries and uses Google servers. They can be reached at nocri@nihr.ac.uk \n",
      "\n",
      "34\n"
     ]
    }
   ],
   "source": [
    "file1 = open(txtFileOutName,\"w+\") \n",
    "file2 = open(csvFileOutName, \"w+\")\n",
    "\n",
    "count = 0\n",
    "\n",
    "with open(inputFile, 'r') as file:\n",
    "    reader = csv.reader(file)\n",
    "    for row in reader:\n",
    "        domain = (row[-1].split(\"@\")[-1])\n",
    "        size = (row[-2])\n",
    "        company = row[0]\n",
    "        industries = row[2]\n",
    "        mail = row[-1]\n",
    "        location = row[3]\n",
    "        try:\n",
    "            ismatch = 0\n",
    "            for rdata1 in dns.resolver.query(domain, 'MX') :\n",
    "                if ismatch == 0:\n",
    "                    if servermatch in str(rdata1).lower():\n",
    "                        ismatch = 1\n",
    "                        count += 1\n",
    "                        file2.write(row[0] + \";\" +row[3] + \";\" + domain + \"\\n\")\n",
    "                        print(\"%s located in %s has %s employees in the %s industries and uses %s servers. They can be reached at %s \" % (company,location, size, industries, servername, mail ))\n",
    "                        print()\n",
    "                        file1.write(\"%s located in %s has %s employees in the %s industries and uses % servers. They can be reached at %s \\n\\n\" % (company,location, size, industries,servername, mail ))\n",
    "                        \n",
    "        except:\n",
    "            z=2\n",
    "file1.close()\n",
    "file2.close()\n",
    "print(count)"
   ]
  }
 ],
 "metadata": {
  "kernelspec": {
   "display_name": "Python 3",
   "language": "python",
   "name": "python3"
  },
  "language_info": {
   "codemirror_mode": {
    "name": "ipython",
    "version": 3
   },
   "file_extension": ".py",
   "mimetype": "text/x-python",
   "name": "python",
   "nbconvert_exporter": "python",
   "pygments_lexer": "ipython3",
   "version": "3.8.3"
  }
 },
 "nbformat": 4,
 "nbformat_minor": 4
}
