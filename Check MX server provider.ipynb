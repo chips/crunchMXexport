{
 "cells": [
  {
   "cell_type": "markdown",
   "metadata": {},
   "source": [
    "MX server lookup\n",
    "=======\n",
    "\n",
    "Just a quick way of running checks on csv downloads from *Crunchbase* to see what email provider they are likely using. I needed statistics on how many are using google mail services, so I'm checking for the google mx servers. This list will not be exact, as many companies could be running through other services for security reasons etc.\n",
    "\n",
    "The formatting of the cvs file downloaded from crunchbase needs a few things to work:\n",
    "\n",
    "the last field should be the contact email.\n",
    "The second to last field should be the number of employees.\n",
    "Other than that, it's default.\n",
    "\n"
   ]
  },
  {
   "cell_type": "code",
   "execution_count": null,
   "metadata": {
    "scrolled": true
   },
   "outputs": [],
   "source": [
    "# Install a conda package in the current Jupyter kernel\n",
    "import sys\n",
    "!conda install --yes --prefix {sys.prefix} dnspython3"
   ]
  },
  {
   "cell_type": "code",
   "execution_count": null,
   "metadata": {},
   "outputs": [],
   "source": [
    "#Import needed packages\n",
    "import csv\n",
    "import dns.resolver"
   ]
  },
  {
   "cell_type": "code",
   "execution_count": null,
   "metadata": {},
   "outputs": [],
   "source": [
    "#Parameters for search.\n",
    "#What do you want to match anywhere in the mx lookup\n",
    "servermatch = \"google\"\n",
    "\n",
    "#What do you want to call the service in the printout\n",
    "servername = \"Google\"\n",
    "\n",
    "#The name of the text output\n",
    "txtFileOutName = \"MyOutput.txt\"\n",
    "\n",
    "#Name of csv export\n",
    "csvFileOutName = \"MyOutput.csv\"\n",
    "\n",
    "#Name of your input file, the one from crunchbase\n",
    "inputFile = \"companies-large.csv\""
   ]
  },
  {
   "cell_type": "code",
   "execution_count": null,
   "metadata": {},
   "outputs": [],
   "source": [
    "file1 = open(txtFileOutName,\"w+\") \n",
    "file2 = open(csvFileOutName, \"w+\")\n",
    "\n",
    "count = 0\n",
    "\n",
    "with open(inputFile, 'r') as file:\n",
    "    reader = csv.reader(file)\n",
    "    for row in reader:\n",
    "        domain = (row[-1].split(\"@\")[-1])\n",
    "        size = (row[-2])\n",
    "        company = row[0]\n",
    "        industries = row[2]\n",
    "        mail = row[-1]\n",
    "        location = row[3]\n",
    "        try:\n",
    "            ismatch = 0\n",
    "            for rdata1 in dns.resolver.query(domain, 'MX') :\n",
    "                if ismatch == 0:\n",
    "                    if servermatch in str(rdata1).lower():\n",
    "                        ismatch = 1\n",
    "                        count += 1\n",
    "                        file2.write(row[0] + \";\" +row[3] + \";\" + domain + \"\\n\")\n",
    "                        print(\"%s located in %s has %s employees in the %s industries and uses %s servers. They can be reached at %s \" % (company,location, size, industries, servername, mail ))\n",
    "                        print()\n",
    "                        file1.write(\"%s located in %s has %s employees in the %s industries and uses % servers. They can be reached at %s \\n\\n\" % (company,location, size, industries,servername, mail ))\n",
    "                        \n",
    "        except:\n",
    "            z=2\n",
    "file1.close()\n",
    "file2.close()\n",
    "print(count)"
   ]
  }
 ],
 "metadata": {
  "kernelspec": {
   "display_name": "Python 3",
   "language": "python",
   "name": "python3"
  },
  "language_info": {
   "codemirror_mode": {
    "name": "ipython",
    "version": 3
   },
   "file_extension": ".py",
   "mimetype": "text/x-python",
   "name": "python",
   "nbconvert_exporter": "python",
   "pygments_lexer": "ipython3",
   "version": "3.8.3"
  }
 },
 "nbformat": 4,
 "nbformat_minor": 4
}
